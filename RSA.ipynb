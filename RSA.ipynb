{
 "cells": [
  {
   "cell_type": "markdown",
   "metadata": {},
   "source": [
    "# RSA Encryption Scheme"
   ]
  },
  {
   "cell_type": "markdown",
   "metadata": {},
   "source": [
    "## Group-11 \n",
    "+ Ritu Thombre (BT17CSE084)"
   ]
  },
  {
   "cell_type": "markdown",
   "metadata": {},
   "source": [
    "# <a id='index'>Index</a>"
   ]
  },
  {
   "cell_type": "markdown",
   "metadata": {},
   "source": [
    "+ <a href='#key'>1. Generation of Keys</a>\n",
    "+ <a href='#encrypt'>2. Encrypting plain_text</a>\n",
    "+ <a href='#decrypt'>3. Decrypting cipher_text</a>\n",
    "+ <a href='#aux'>4. Auxiliary functions</a>\n",
    "+ <a href='#implementation'>5. Implementation</a>\n",
    "    + <a href='#6.1'>5.1 Generating Keys</a>\n",
    "    + <a href='#6.2'>5.2 Generating plain_text</a>\n",
    "    + <a href='#6.3'>5.3 Encrypting plain_text to generate cipher_text</a>\n",
    "    + <a href='#6.4'>5.4 Decrypting cipher_text to generate plain_text</a>\n",
    "    + <a href='#6.5'>5.5 Checking if decrypted plain_text is same as original plain_text</a>\n",
    "+ <a href='#final'>6. Final Remarks</a>"
   ]
  },
  {
   "cell_type": "code",
   "execution_count": 21,
   "metadata": {},
   "outputs": [],
   "source": [
    "import numpy as np\n",
    "import math\n",
    "import gmpy2\n",
    "from gmpy2 import powmod,mpz,isqrt,invert"
   ]
  },
  {
   "cell_type": "markdown",
   "metadata": {},
   "source": [
    "# <a id='key'>1. Generation of Keys</a>\n",
    "<a href='#index'>Go back to the top</a>"
   ]
  },
  {
   "cell_type": "markdown",
   "metadata": {},
   "source": [
    "***Key Generation In RSA :***\n",
    "\n",
    "+ Choose 2 primes p,q using gmpy\n",
    "+ n = p*q and $ \\phi (n) = (p-1)*(q-1) $\n",
    "+ Choose $ e $ in $ [2,\\phi(n)-2] $ such that $ e $ and $ \\phi(n) $ are coprimes i.e their gcd is 1\n",
    "+ Choose $ d = e^{-1} mod(\\phi(n)) $\n",
    "+ Return ***Public keys :*** $ (n,e) $\n",
    "+ Return ***Private key :*** $ (d) $"
   ]
  },
  {
   "cell_type": "code",
   "execution_count": 22,
   "metadata": {
    "scrolled": true
   },
   "outputs": [],
   "source": [
    "def generate_keys():\n",
    "    # prime number of 25 digits i.e 84 bits\n",
    "    temp = 1000000000000000000000000\n",
    "    random_add1 = np.random.randint(1,1000000)\n",
    "    random_add2 = np.random.randint(1000000,2000000)\n",
    "    p = int(gmpy2.next_prime(temp + random_add1))\n",
    "    q = int(gmpy2.next_prime(temp + random_add2))\n",
    "    n = p*q\n",
    "    phi = (p-1)*(q-1)\n",
    "    e = 2\n",
    "    while True:\n",
    "        if gmpy2.gcd(phi,e) != 1:\n",
    "            e = e + 1\n",
    "        else :\n",
    "            break\n",
    "    d = gmpy2.invert(e,phi)\n",
    "    return n,e,d"
   ]
  },
  {
   "cell_type": "markdown",
   "metadata": {},
   "source": [
    "# <a id='encrypt'>2. Encrypting plain_text blocks</a>\n",
    "<a href='#index'>Go back to the top</a>"
   ]
  },
  {
   "cell_type": "markdown",
   "metadata": {},
   "source": [
    "***Encyption in RSA :***\n",
    "\n",
    "***Input :*** $ Plain Text = [p_1,p_2,p_3,..........,p_k] $\n",
    "\n",
    "***Output :*** $ Cipher Text = [c_1,c_2,c_3,..........,c_k] $\n",
    "\n",
    "where\n",
    "\n",
    "$ c_{i} = p_{i}^e mod (n) $\n"
   ]
  },
  {
   "cell_type": "code",
   "execution_count": 23,
   "metadata": {},
   "outputs": [],
   "source": [
    "def encrypt(plain_text_blocks,public_keys):\n",
    "    cipher_text_blocks = []\n",
    "    n,e = public_keys\n",
    "    for plain_text in plain_text_blocks:\n",
    "        cipher_text = (gmpy2.powmod(plain_text,e,n))\n",
    "        cipher_text_blocks.append(cipher_text)\n",
    "    return cipher_text_blocks"
   ]
  },
  {
   "cell_type": "markdown",
   "metadata": {},
   "source": [
    "# <a id='decrypt'>3. Decrypting cipher_text</a>\n",
    "<a href='#index'>Go back to the top</a>"
   ]
  },
  {
   "cell_type": "markdown",
   "metadata": {},
   "source": [
    "***Decryption in RSA :***\n",
    "\n",
    "***Input :*** $ Cipher Text = [c_1,c_2,c_3,..........,c_k] $\n",
    "\n",
    "***Output :*** $ Plain Text = [p_1,p_2,p_3,..........,p_k] $\n",
    "\n",
    "$ p_{i} = c_{i}^d mod (n) $"
   ]
  },
  {
   "cell_type": "code",
   "execution_count": 24,
   "metadata": {},
   "outputs": [],
   "source": [
    "def decrypt(cipher_text_blocks,secret_key,public_keys):\n",
    "    n,e = public_keys\n",
    "    d = secret_key\n",
    "    decypted_plain_text_blocks = []\n",
    "    for cipher_text in cipher_text_blocks:\n",
    "        plain_text = (gmpy2.powmod(cipher_text,d,n))\n",
    "        decypted_plain_text_blocks.append(plain_text)\n",
    "    return decypted_plain_text_blocks"
   ]
  },
  {
   "cell_type": "markdown",
   "metadata": {},
   "source": [
    "# <a id='aux'>4. Auxiliary functions</a>\n",
    "<a href='#index'>Go back to the top</a>"
   ]
  },
  {
   "cell_type": "markdown",
   "metadata": {},
   "source": [
    "+ get_blocks() function converts the plain_text into blocks of plain_text by using the ***blocksize = 12***.\n",
    "    + In this case, since prime used is 84 bits long i.e 25 digits long, it can encrypt upto 25 digit number\n",
    "    + Since, each aplha-numeric character gives 2 digit plain_text, so we can use maximum of ***12 alphabets in a block***\n",
    "+ format_plain_text() takes in the alphabetical plain_text blocks and returns their corresponding numeric plain_text blocks\n",
    "+ def format_decrypted_plain_text() takes in the numeric_decrypted_plain_text blocks and return a single original plain text."
   ]
  },
  {
   "cell_type": "code",
   "execution_count": 25,
   "metadata": {
    "scrolled": true
   },
   "outputs": [],
   "source": [
    "# taken in 'Hello World!!!' returns ['Hello World!','!!']\n",
    "def get_blocks(PT,block_size=12):\n",
    "    blocks = []\n",
    "    i = 0\n",
    "    while i<len(PT):\n",
    "        temp_str=''\n",
    "        if i+block_size-1 < len(PT):\n",
    "            temp_str=temp_str+PT[i:i+block_size]\n",
    "        else :\n",
    "            temp_str=temp_str+PT[i::]\n",
    "        blocks.append(temp_str)\n",
    "        i=i+block_size\n",
    "    return blocks\n",
    "        \n",
    "# covert plain_text block from characters to the numbers\n",
    "def format_plain_text(PT):\n",
    "    plain_text_blocks = []\n",
    "    for block in PT:\n",
    "        plain_text = 0\n",
    "        for i in range(len(block)):\n",
    "            # for 'd'\n",
    "            if ord(block[i]) == 100:\n",
    "                plain_text = plain_text*100 + 28\n",
    "            # between (101,127)\n",
    "            elif ord(block[i])>100:\n",
    "                plain_text = plain_text*100 + (ord(block[i])-100)\n",
    "            else :\n",
    "                plain_text = plain_text*100 + (ord(block[i]))\n",
    "        plain_text_blocks.append(plain_text)\n",
    "    return plain_text_blocks\n",
    "\n",
    "# convert numeric decypted_plain_text_blocks into a single plain text of characters\n",
    "def format_decrypted_plain_text(decypted_plain_text_blocks):\n",
    "    plain_text_blocks = []\n",
    "    for dc_pt in decypted_plain_text_blocks:\n",
    "        plain_text = ''\n",
    "        temp = dc_pt\n",
    "        # for 'd' temp = 28\n",
    "        while temp > 0:\n",
    "            if temp%100 == 28:\n",
    "                plain_text = plain_text + 'd'\n",
    "            elif (temp%100) in range(0,27):\n",
    "                plain_text = plain_text + chr((temp%100)+100)\n",
    "            else :\n",
    "                plain_text = plain_text + chr((temp%100))\n",
    "            temp = temp//100\n",
    "        plain_text = plain_text[::-1] \n",
    "        plain_text_blocks.append(plain_text)\n",
    "    final_plain_text = ''\n",
    "    for plain_text_block in plain_text_blocks:\n",
    "        final_plain_text = final_plain_text + plain_text_block\n",
    "    return final_plain_text"
   ]
  },
  {
   "cell_type": "markdown",
   "metadata": {},
   "source": [
    "# <a id='implementation'>5. Implementation</a>\n",
    "<a href='#index'>Go back to the top</a>"
   ]
  },
  {
   "cell_type": "markdown",
   "metadata": {},
   "source": [
    "### <a id='6.1'>5.1 Generating Keys</a>"
   ]
  },
  {
   "cell_type": "code",
   "execution_count": 26,
   "metadata": {},
   "outputs": [],
   "source": [
    "n,e,d = generate_keys()"
   ]
  },
  {
   "cell_type": "code",
   "execution_count": 27,
   "metadata": {},
   "outputs": [
    {
     "name": "stdout",
     "output_type": "stream",
     "text": [
      "\n",
      "Public Key :\n",
      "n : 1000000000000000001341354000000000000281177501013\n",
      "e : 7\n",
      "Secret Key :\n",
      "d : 285714285714285714668957714285714285794621759903\n"
     ]
    }
   ],
   "source": [
    "public_keys = (n,e)\n",
    "secret_key = d\n",
    "print(\"\\nPublic Key :\")\n",
    "print('n :',n)\n",
    "print('e :',e)\n",
    "print(\"Secret Key :\\nd :\",d)"
   ]
  },
  {
   "cell_type": "markdown",
   "metadata": {},
   "source": [
    "### <a id='6.2'>5.2 Generating plain_text</a>"
   ]
  },
  {
   "cell_type": "code",
   "execution_count": 28,
   "metadata": {},
   "outputs": [
    {
     "name": "stdout",
     "output_type": "stream",
     "text": [
      "\n",
      "Enter Plain Text to encrypt : Schrodinger's cat is dead and alive at the same time. This cat represents the (|psi_cat>=0.5*|psi_cat_alive> + 0.5*|psi_cat_dead>) i.e superposition of wave-functions representing cat being dead and alive at the same time.\n"
     ]
    }
   ],
   "source": [
    "PT = input(\"\\nEnter Plain Text to encrypt : \")\n",
    "\n",
    "original_plain_text = PT"
   ]
  },
  {
   "cell_type": "code",
   "execution_count": 29,
   "metadata": {},
   "outputs": [
    {
     "name": "stdout",
     "output_type": "stream",
     "text": [
      "\n",
      "Plain Text after converting to blocks [\"Schrodinger'\", 's cat is dea', 'd and alive ', 'at the same ', 'time. This c', 'at represent', 's the (|psi_', 'cat>=0.5*|ps', 'i_cat_alive>', ' + 0.5*|psi_', 'cat_dead>) i', '.e superposi', 'tion of wave', '-functions r', 'epresenting ', 'cat being de', 'ad and alive', ' at the same', ' time.']\n"
     ]
    }
   ],
   "source": [
    "block_size = 12\n",
    "PT = get_blocks(PT,block_size)\n",
    "print('\\nPlain Text after converting to blocks',PT)"
   ]
  },
  {
   "cell_type": "code",
   "execution_count": 30,
   "metadata": {},
   "outputs": [
    {
     "name": "stdout",
     "output_type": "stream",
     "text": [
      "\n",
      "Plain text blocks after formatting to numbers: [839904141128051003011439, 153299971632051532280197, 283297102832970805180132, 971632160401321597090132, 160509014632840405153299, 971632140112140115011016, 153216040132402412150595, 999716626148465342241215, 59599971695970805180162, 324332484653422412150595, 999716952801972862413205, 460132151712011412111505, 160511103211023219971801, 450217109916051110153214, 11214011501101605100332, 999716329801051003322801, 972832971028329708051801, 329716321604013215970901, 321605090146]\n"
     ]
    }
   ],
   "source": [
    "plain_text_blocks = format_plain_text(PT)\n",
    "print('\\nPlain text blocks after formatting to numbers:',plain_text_blocks)"
   ]
  },
  {
   "cell_type": "markdown",
   "metadata": {},
   "source": [
    "### <a id='6.3'>5.3 Encrypting plain_text to generate cipher_text</a>"
   ]
  },
  {
   "cell_type": "code",
   "execution_count": 31,
   "metadata": {},
   "outputs": [
    {
     "name": "stdout",
     "output_type": "stream",
     "text": [
      "\n",
      "Cipher Text Blocks After RSA encryption : [mpz(774508198888187580587946737302815984351963186940), mpz(423279653715063599349011885640360111585672014163), mpz(669318001393529679708414629654112663820426265801), mpz(484340170643646038968628612182983150988761717386), mpz(125357411837221794225861460606317557411951790293), mpz(900791586397964162054100435523991156600042369828), mpz(842034793216642839840652761265394917139789361424), mpz(525451966087518281105034757125993599524720967904), mpz(491844854924193609627871362517676665473667147766), mpz(268342633309175463394382444910115704506252208646), mpz(17328679049235209240729641761810232631615686518), mpz(636825521776325957537174217280432436054741168920), mpz(287662996948861326539028277866028912382971579859), mpz(84358182807846399870970612886459670298476405514), mpz(352664057898467977239632367271176278443088183175), mpz(18101567976458017218131068155141512293448264382), mpz(81524323116989350084674286092231000859897440799), mpz(665621393475609092907906338066600413023120167828), mpz(98615133772369666122199913455465546387100687249)]\n"
     ]
    }
   ],
   "source": [
    "cipher_text_blocks = encrypt(plain_text_blocks,public_keys)\n",
    "print(\"\\nCipher Text Blocks After RSA encryption :\",cipher_text_blocks)"
   ]
  },
  {
   "cell_type": "markdown",
   "metadata": {},
   "source": [
    "### <a id='6.4'>5.4 Decrypting cipher_text to generate plain_text</a>"
   ]
  },
  {
   "cell_type": "code",
   "execution_count": 32,
   "metadata": {},
   "outputs": [
    {
     "name": "stdout",
     "output_type": "stream",
     "text": [
      "\n",
      "Plain Text blocks after decryption of Cipher Text blocks : [mpz(839904141128051003011439), mpz(153299971632051532280197), mpz(283297102832970805180132), mpz(971632160401321597090132), mpz(160509014632840405153299), mpz(971632140112140115011016), mpz(153216040132402412150595), mpz(999716626148465342241215), mpz(59599971695970805180162), mpz(324332484653422412150595), mpz(999716952801972862413205), mpz(460132151712011412111505), mpz(160511103211023219971801), mpz(450217109916051110153214), mpz(11214011501101605100332), mpz(999716329801051003322801), mpz(972832971028329708051801), mpz(329716321604013215970901), mpz(321605090146)]\n"
     ]
    }
   ],
   "source": [
    "decypted_plain_text_blocks = decrypt(cipher_text_blocks,secret_key,public_keys)\n",
    "print(\"\\nPlain Text blocks after decryption of Cipher Text blocks :\",decypted_plain_text_blocks)"
   ]
  },
  {
   "cell_type": "code",
   "execution_count": 33,
   "metadata": {},
   "outputs": [
    {
     "name": "stdout",
     "output_type": "stream",
     "text": [
      "\n",
      "After decryption Plain Text : Schrodinger's cat is dead and alive at the same time. This cat represents the (|psi_cat>=0.5*|psi_cat_alive> + 0.5*|psi_cat_dead>) i.e superposition of wave-functions representing cat being dead and alive at the same time.\n"
     ]
    }
   ],
   "source": [
    "plain_text_after_decryption = format_decrypted_plain_text(decypted_plain_text_blocks)\n",
    "print(\"\\nAfter decryption Plain Text :\",plain_text_after_decryption)"
   ]
  },
  {
   "cell_type": "markdown",
   "metadata": {},
   "source": [
    "### <a id='6.5'>5.5 Checking if decrypted plain_text is same as original plain_text</a>"
   ]
  },
  {
   "cell_type": "code",
   "execution_count": 34,
   "metadata": {},
   "outputs": [
    {
     "name": "stdout",
     "output_type": "stream",
     "text": [
      "\n",
      "Hurrayyy!!!\n",
      "\n",
      "Decrypted plain_text is same as original plain_text! :) \n"
     ]
    }
   ],
   "source": [
    "if (original_plain_text == plain_text_after_decryption):\n",
    "    print(\"\\nHurrayyy!!!\\n\\nDecrypted plain_text is same as original plain_text! :) \")"
   ]
  },
  {
   "cell_type": "markdown",
   "metadata": {},
   "source": [
    "# <a id='final'>6. Final Remarks</a>\n",
    "<a href='#index'>Go back to the top</a>"
   ]
  },
  {
   "cell_type": "markdown",
   "metadata": {},
   "source": [
    "+ ASCII values :\n",
    "    + ASCII values from 0-31 are not alpha-numeric characters.\n",
    "    + ASCII values from ***32-99 contain [A_Z,a,b,c] and special characters such as @,#,',\",space,etc***\n",
    "    + ASCII values from ***100-126 contain [d-z] which are 3 digit.***\n",
    "    + Since we're ***not using ASCII values from 0-31, we can convert ASCII values of [d-z] to 2-digit number, by subtracting 100 from them.***\n",
    "    + If we subtract 100 from ASCII values of 'd', which is 100, we get 00. ***dam will be 009709 which 9709***, so 'd' is lost in the processing. \n",
    "    + Unused ASCII values we have now are [27,28,29,30,31], so we assign d=28. \n",
    "+ This program uses 25 digit prime number, so it can encrypt upto maximum of 12 characters at a time i.e 24 digits\n",
    "+ So, to encrypt large plain text, ***RSA was implemented as a block cipher.***"
   ]
  },
  {
   "cell_type": "code",
   "execution_count": null,
   "metadata": {},
   "outputs": [],
   "source": []
  }
 ],
 "metadata": {
  "kernelspec": {
   "display_name": "Python 3",
   "language": "python",
   "name": "python3"
  },
  "language_info": {
   "codemirror_mode": {
    "name": "ipython",
    "version": 3
   },
   "file_extension": ".py",
   "mimetype": "text/x-python",
   "name": "python",
   "nbconvert_exporter": "python",
   "pygments_lexer": "ipython3",
   "version": "3.7.9"
  }
 },
 "nbformat": 4,
 "nbformat_minor": 4
}
